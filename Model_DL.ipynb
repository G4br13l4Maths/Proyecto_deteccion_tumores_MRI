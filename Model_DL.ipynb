{
  "cells": [
    {
      "cell_type": "markdown",
      "id": "b2ae55a7",
      "metadata": {
        "id": "b2ae55a7"
      },
      "source": [
        "Convierte las MRI a escala de grises, redimensiona y normaliza.\n",
        "\n",
        "Extrae HOG + LBP + estadísticas de intensidad (media, desvío, asimetría, curtosis).\n",
        "\n",
        "Entrena y compara SVM-RBF, Random Forest y Regresión Logística vía GridSearchCV con validación estratificada.\n",
        "\n",
        "Reporta accuracy, F1 macro, matriz de confusión y ROC OvR.\n",
        "\n",
        "Reentrena el mejor en todo Training/ y evalúa en Testing/.\n",
        "\n",
        "Guarda el modelo y una función predict_image(...).\n",
        "\n",
        "Incluye MLflow opcional (si está instalado, registra parámetros y métricas; si no, corre igual)."
      ]
    },
    {
      "cell_type": "code",
      "execution_count": 6,
      "id": "TBhKo4rR-lDv",
      "metadata": {
        "colab": {
          "base_uri": "https://localhost:8080/"
        },
        "id": "TBhKo4rR-lDv",
        "outputId": "2c980cab-51a6-45fd-b3e9-be2a577d083d"
      },
      "outputs": [
        {
          "name": "stdout",
          "output_type": "stream",
          "text": [
            "Mounted at /content/drive\n"
          ]
        }
      ],
      "source": [
        "from google.colab import drive\n",
        "drive.mount('/content/drive')"
      ]
    },
    {
      "cell_type": "code",
      "execution_count": 7,
      "id": "4967879b",
      "metadata": {
        "colab": {
          "base_uri": "https://localhost:8080/"
        },
        "id": "4967879b",
        "outputId": "9117c1d5-ff85-4728-c88d-cbab945a4c82"
      },
      "outputs": [
        {
          "name": "stdout",
          "output_type": "stream",
          "text": [
            "\u001b[31mERROR: Could not find a version that satisfies the requirement tensorflow==2.15.* (from versions: 2.16.0rc0, 2.16.1, 2.16.2, 2.17.0rc0, 2.17.0rc1, 2.17.0, 2.17.1, 2.18.0rc0, 2.18.0rc1, 2.18.0rc2, 2.18.0, 2.18.1, 2.19.0rc0, 2.19.0, 2.19.1, 2.20.0rc0, 2.20.0)\u001b[0m\u001b[31m\n",
            "\u001b[0m\u001b[31mERROR: No matching distribution found for tensorflow==2.15.*\u001b[0m\u001b[31m\n",
            "\u001b[0m2.19.0\n",
            "GPU: [PhysicalDevice(name='/physical_device:GPU:0', device_type='GPU')]\n"
          ]
        }
      ],
      "source": [
        "# ===== 0) Setup (Colab) =====\n",
        "!pip install -q --upgrade tensorflow==2.15.*  # (Colab ya trae TF; esto asegura versión reciente)\n",
        "\n",
        "import os, numpy as np, tensorflow as tf\n",
        "from pathlib import Path\n",
        "\n",
        "print(tf.__version__)\n",
        "print(\"GPU:\", tf.config.list_physical_devices('GPU'))\n",
        "\n",
        "# Mezcla de precisión (saca jugo a GPU)\n",
        "from tensorflow.keras import mixed_precision\n",
        "mixed_precision.set_global_policy('mixed_float16')\n"
      ]
    },
    {
      "cell_type": "code",
      "execution_count": 8,
      "id": "TgtH1n3xM6Iv",
      "metadata": {
        "colab": {
          "base_uri": "https://localhost:8080/"
        },
        "id": "TgtH1n3xM6Iv",
        "outputId": "c1fb21de-e911-4e2f-fdd2-0bdbc49fd0ba"
      },
      "outputs": [
        {
          "name": "stdout",
          "output_type": "stream",
          "text": [
            "Tue Sep  2 03:19:28 2025       \n",
            "+-----------------------------------------------------------------------------------------+\n",
            "| NVIDIA-SMI 550.54.15              Driver Version: 550.54.15      CUDA Version: 12.4     |\n",
            "|-----------------------------------------+------------------------+----------------------+\n",
            "| GPU  Name                 Persistence-M | Bus-Id          Disp.A | Volatile Uncorr. ECC |\n",
            "| Fan  Temp   Perf          Pwr:Usage/Cap |           Memory-Usage | GPU-Util  Compute M. |\n",
            "|                                         |                        |               MIG M. |\n",
            "|=========================================+========================+======================|\n",
            "|   0  Tesla T4                       Off |   00000000:00:04.0 Off |                    0 |\n",
            "| N/A   44C    P8              9W /   70W |       2MiB /  15360MiB |      0%      Default |\n",
            "|                                         |                        |                  N/A |\n",
            "+-----------------------------------------+------------------------+----------------------+\n",
            "                                                                                         \n",
            "+-----------------------------------------------------------------------------------------+\n",
            "| Processes:                                                                              |\n",
            "|  GPU   GI   CI        PID   Type   Process name                              GPU Memory |\n",
            "|        ID   ID                                                               Usage      |\n",
            "|=========================================================================================|\n",
            "|  No running processes found                                                             |\n",
            "+-----------------------------------------------------------------------------------------+\n"
          ]
        }
      ],
      "source": [
        "!nvidia-smi\n"
      ]
    },
    {
      "cell_type": "code",
      "execution_count": 9,
      "id": "1b961d96",
      "metadata": {
        "id": "1b961d96"
      },
      "outputs": [],
      "source": [
        "# ===== 1) Paths y parámetros =====\n",
        "BASE_DIR = Path(\"/content/drive/MyDrive/archive\")\n",
        "TRAIN_DIR = BASE_DIR / \"Training\"\n",
        "TEST_DIR  = BASE_DIR / \"Testing\"\n",
        "\n",
        "IMG_SIZE   = (224, 224)   # usar 192/160 para mayor rapidez\n",
        "BATCH_SIZE = 32\n",
        "SEED       = 42\n",
        "CLASSES    = ['glioma','meningioma','notumor','pituitary']  # opcional, se detectan del dir\n"
      ]
    },
    {
      "cell_type": "code",
      "execution_count": 10,
      "id": "09OHRjvnbEwn",
      "metadata": {
        "colab": {
          "base_uri": "https://localhost:8080/"
        },
        "id": "09OHRjvnbEwn",
        "outputId": "fb979357-1f1d-4d9a-97f5-da436c773500"
      },
      "outputs": [
        {
          "name": "stdout",
          "output_type": "stream",
          "text": [
            "Found 5712 files belonging to 4 classes.\n",
            "Using 4570 files for training.\n",
            "Found 5712 files belonging to 4 classes.\n",
            "Using 1142 files for validation.\n",
            "Found 1321 files belonging to 4 classes.\n"
          ]
        }
      ],
      "source": [
        "# ===== 2) Datasets (tf.data) =====\n",
        "train_ds = tf.keras.preprocessing.image_dataset_from_directory(\n",
        "    TRAIN_DIR, labels='inferred', label_mode='int',\n",
        "    class_names=CLASSES, image_size=IMG_SIZE, batch_size=BATCH_SIZE,\n",
        "    shuffle=True, seed=SEED, validation_split=0.2, subset='training'\n",
        ")\n",
        "val_ds = tf.keras.preprocessing.image_dataset_from_directory(\n",
        "    TRAIN_DIR, labels='inferred', label_mode='int',\n",
        "    class_names=CLASSES, image_size=IMG_SIZE, batch_size=BATCH_SIZE,\n",
        "    shuffle=True, seed=SEED, validation_split=0.2, subset='validation'\n",
        ")\n",
        "test_ds = tf.keras.preprocessing.image_dataset_from_directory(\n",
        "    TEST_DIR, labels='inferred', label_mode='int',\n",
        "    class_names=CLASSES, image_size=IMG_SIZE, batch_size=BATCH_SIZE,\n",
        "    shuffle=False\n",
        ")\n",
        "\n",
        "# Performance: cache + prefetch\n",
        "AUTOTUNE = tf.data.AUTOTUNE\n",
        "train_ds = train_ds.cache().prefetch(AUTOTUNE)\n",
        "val_ds   = val_ds.cache().prefetch(AUTOTUNE)\n",
        "test_ds  = test_ds.cache().prefetch(AUTOTUNE)\n"
      ]
    },
    {
      "cell_type": "code",
      "execution_count": 11,
      "id": "ddOQhBLicDe3",
      "metadata": {
        "id": "ddOQhBLicDe3"
      },
      "outputs": [],
      "source": [
        "# ===== 3) Data Augmentation & Preprocessing =====\n",
        "from tensorflow import keras\n",
        "from tensorflow.keras import layers\n",
        "\n",
        "data_aug = keras.Sequential([\n",
        "    layers.RandomFlip(\"horizontal\"),\n",
        "    layers.RandomRotation(0.05),\n",
        "    layers.RandomZoom(0.1),\n",
        "    layers.RandomContrast(0.1),\n",
        "], name=\"data_aug\")"
      ]
    },
    {
      "cell_type": "code",
      "execution_count": 12,
      "id": "Q4LKa7tBcF6k",
      "metadata": {
        "colab": {
          "base_uri": "https://localhost:8080/",
          "height": 382
        },
        "id": "Q4LKa7tBcF6k",
        "outputId": "627fe5e5-eecb-46d4-b7bf-4df81d46c67d"
      },
      "outputs": [
        {
          "name": "stdout",
          "output_type": "stream",
          "text": [
            "Downloading data from https://storage.googleapis.com/keras-applications/efficientnetb0_notop.h5\n",
            "\u001b[1m16705208/16705208\u001b[0m \u001b[32m━━━━━━━━━━━━━━━━━━━━\u001b[0m\u001b[37m\u001b[0m \u001b[1m2s\u001b[0m 0us/step\n"
          ]
        },
        {
          "data": {
            "text/html": [
              "<pre style=\"white-space:pre;overflow-x:auto;line-height:normal;font-family:Menlo,'DejaVu Sans Mono',consolas,'Courier New',monospace\"><span style=\"font-weight: bold\">Model: \"functional_1\"</span>\n",
              "</pre>\n"
            ],
            "text/plain": [
              "\u001b[1mModel: \"functional_1\"\u001b[0m\n"
            ]
          },
          "metadata": {},
          "output_type": "display_data"
        },
        {
          "data": {
            "text/html": [
              "<pre style=\"white-space:pre;overflow-x:auto;line-height:normal;font-family:Menlo,'DejaVu Sans Mono',consolas,'Courier New',monospace\">┏━━━━━━━━━━━━━━━━━━━━━━━━━━━━━━━━━┳━━━━━━━━━━━━━━━━━━━━━━━━┳━━━━━━━━━━━━━━━┓\n",
              "┃<span style=\"font-weight: bold\"> Layer (type)                    </span>┃<span style=\"font-weight: bold\"> Output Shape           </span>┃<span style=\"font-weight: bold\">       Param # </span>┃\n",
              "┡━━━━━━━━━━━━━━━━━━━━━━━━━━━━━━━━━╇━━━━━━━━━━━━━━━━━━━━━━━━╇━━━━━━━━━━━━━━━┩\n",
              "│ input_layer_1 (<span style=\"color: #0087ff; text-decoration-color: #0087ff\">InputLayer</span>)      │ (<span style=\"color: #00d7ff; text-decoration-color: #00d7ff\">None</span>, <span style=\"color: #00af00; text-decoration-color: #00af00\">224</span>, <span style=\"color: #00af00; text-decoration-color: #00af00\">224</span>, <span style=\"color: #00af00; text-decoration-color: #00af00\">3</span>)    │             <span style=\"color: #00af00; text-decoration-color: #00af00\">0</span> │\n",
              "├─────────────────────────────────┼────────────────────────┼───────────────┤\n",
              "│ data_aug (<span style=\"color: #0087ff; text-decoration-color: #0087ff\">Sequential</span>)           │ (<span style=\"color: #00d7ff; text-decoration-color: #00d7ff\">None</span>, <span style=\"color: #00af00; text-decoration-color: #00af00\">224</span>, <span style=\"color: #00af00; text-decoration-color: #00af00\">224</span>, <span style=\"color: #00af00; text-decoration-color: #00af00\">3</span>)    │             <span style=\"color: #00af00; text-decoration-color: #00af00\">0</span> │\n",
              "├─────────────────────────────────┼────────────────────────┼───────────────┤\n",
              "│ efficientnetb0 (<span style=\"color: #0087ff; text-decoration-color: #0087ff\">Functional</span>)     │ (<span style=\"color: #00d7ff; text-decoration-color: #00d7ff\">None</span>, <span style=\"color: #00af00; text-decoration-color: #00af00\">7</span>, <span style=\"color: #00af00; text-decoration-color: #00af00\">7</span>, <span style=\"color: #00af00; text-decoration-color: #00af00\">1280</span>)     │     <span style=\"color: #00af00; text-decoration-color: #00af00\">4,049,571</span> │\n",
              "├─────────────────────────────────┼────────────────────────┼───────────────┤\n",
              "│ global_average_pooling2d        │ (<span style=\"color: #00d7ff; text-decoration-color: #00d7ff\">None</span>, <span style=\"color: #00af00; text-decoration-color: #00af00\">1280</span>)           │             <span style=\"color: #00af00; text-decoration-color: #00af00\">0</span> │\n",
              "│ (<span style=\"color: #0087ff; text-decoration-color: #0087ff\">GlobalAveragePooling2D</span>)        │                        │               │\n",
              "├─────────────────────────────────┼────────────────────────┼───────────────┤\n",
              "│ dropout (<span style=\"color: #0087ff; text-decoration-color: #0087ff\">Dropout</span>)               │ (<span style=\"color: #00d7ff; text-decoration-color: #00d7ff\">None</span>, <span style=\"color: #00af00; text-decoration-color: #00af00\">1280</span>)           │             <span style=\"color: #00af00; text-decoration-color: #00af00\">0</span> │\n",
              "├─────────────────────────────────┼────────────────────────┼───────────────┤\n",
              "│ dense (<span style=\"color: #0087ff; text-decoration-color: #0087ff\">Dense</span>)                   │ (<span style=\"color: #00d7ff; text-decoration-color: #00d7ff\">None</span>, <span style=\"color: #00af00; text-decoration-color: #00af00\">4</span>)              │         <span style=\"color: #00af00; text-decoration-color: #00af00\">5,124</span> │\n",
              "└─────────────────────────────────┴────────────────────────┴───────────────┘\n",
              "</pre>\n"
            ],
            "text/plain": [
              "┏━━━━━━━━━━━━━━━━━━━━━━━━━━━━━━━━━┳━━━━━━━━━━━━━━━━━━━━━━━━┳━━━━━━━━━━━━━━━┓\n",
              "┃\u001b[1m \u001b[0m\u001b[1mLayer (type)                   \u001b[0m\u001b[1m \u001b[0m┃\u001b[1m \u001b[0m\u001b[1mOutput Shape          \u001b[0m\u001b[1m \u001b[0m┃\u001b[1m \u001b[0m\u001b[1m      Param #\u001b[0m\u001b[1m \u001b[0m┃\n",
              "┡━━━━━━━━━━━━━━━━━━━━━━━━━━━━━━━━━╇━━━━━━━━━━━━━━━━━━━━━━━━╇━━━━━━━━━━━━━━━┩\n",
              "│ input_layer_1 (\u001b[38;5;33mInputLayer\u001b[0m)      │ (\u001b[38;5;45mNone\u001b[0m, \u001b[38;5;34m224\u001b[0m, \u001b[38;5;34m224\u001b[0m, \u001b[38;5;34m3\u001b[0m)    │             \u001b[38;5;34m0\u001b[0m │\n",
              "├─────────────────────────────────┼────────────────────────┼───────────────┤\n",
              "│ data_aug (\u001b[38;5;33mSequential\u001b[0m)           │ (\u001b[38;5;45mNone\u001b[0m, \u001b[38;5;34m224\u001b[0m, \u001b[38;5;34m224\u001b[0m, \u001b[38;5;34m3\u001b[0m)    │             \u001b[38;5;34m0\u001b[0m │\n",
              "├─────────────────────────────────┼────────────────────────┼───────────────┤\n",
              "│ efficientnetb0 (\u001b[38;5;33mFunctional\u001b[0m)     │ (\u001b[38;5;45mNone\u001b[0m, \u001b[38;5;34m7\u001b[0m, \u001b[38;5;34m7\u001b[0m, \u001b[38;5;34m1280\u001b[0m)     │     \u001b[38;5;34m4,049,571\u001b[0m │\n",
              "├─────────────────────────────────┼────────────────────────┼───────────────┤\n",
              "│ global_average_pooling2d        │ (\u001b[38;5;45mNone\u001b[0m, \u001b[38;5;34m1280\u001b[0m)           │             \u001b[38;5;34m0\u001b[0m │\n",
              "│ (\u001b[38;5;33mGlobalAveragePooling2D\u001b[0m)        │                        │               │\n",
              "├─────────────────────────────────┼────────────────────────┼───────────────┤\n",
              "│ dropout (\u001b[38;5;33mDropout\u001b[0m)               │ (\u001b[38;5;45mNone\u001b[0m, \u001b[38;5;34m1280\u001b[0m)           │             \u001b[38;5;34m0\u001b[0m │\n",
              "├─────────────────────────────────┼────────────────────────┼───────────────┤\n",
              "│ dense (\u001b[38;5;33mDense\u001b[0m)                   │ (\u001b[38;5;45mNone\u001b[0m, \u001b[38;5;34m4\u001b[0m)              │         \u001b[38;5;34m5,124\u001b[0m │\n",
              "└─────────────────────────────────┴────────────────────────┴───────────────┘\n"
            ]
          },
          "metadata": {},
          "output_type": "display_data"
        },
        {
          "data": {
            "text/html": [
              "<pre style=\"white-space:pre;overflow-x:auto;line-height:normal;font-family:Menlo,'DejaVu Sans Mono',consolas,'Courier New',monospace\"><span style=\"font-weight: bold\"> Total params: </span><span style=\"color: #00af00; text-decoration-color: #00af00\">4,054,695</span> (15.47 MB)\n",
              "</pre>\n"
            ],
            "text/plain": [
              "\u001b[1m Total params: \u001b[0m\u001b[38;5;34m4,054,695\u001b[0m (15.47 MB)\n"
            ]
          },
          "metadata": {},
          "output_type": "display_data"
        },
        {
          "data": {
            "text/html": [
              "<pre style=\"white-space:pre;overflow-x:auto;line-height:normal;font-family:Menlo,'DejaVu Sans Mono',consolas,'Courier New',monospace\"><span style=\"font-weight: bold\"> Trainable params: </span><span style=\"color: #00af00; text-decoration-color: #00af00\">5,124</span> (20.02 KB)\n",
              "</pre>\n"
            ],
            "text/plain": [
              "\u001b[1m Trainable params: \u001b[0m\u001b[38;5;34m5,124\u001b[0m (20.02 KB)\n"
            ]
          },
          "metadata": {},
          "output_type": "display_data"
        },
        {
          "data": {
            "text/html": [
              "<pre style=\"white-space:pre;overflow-x:auto;line-height:normal;font-family:Menlo,'DejaVu Sans Mono',consolas,'Courier New',monospace\"><span style=\"font-weight: bold\"> Non-trainable params: </span><span style=\"color: #00af00; text-decoration-color: #00af00\">4,049,571</span> (15.45 MB)\n",
              "</pre>\n"
            ],
            "text/plain": [
              "\u001b[1m Non-trainable params: \u001b[0m\u001b[38;5;34m4,049,571\u001b[0m (15.45 MB)\n"
            ]
          },
          "metadata": {},
          "output_type": "display_data"
        }
      ],
      "source": [
        "# ===== 4) Modelo (Transfer Learning) =====\n",
        "# Opción: EfficientNetB0 (rápida);  B3/B4 mas tardado\n",
        "base = tf.keras.applications.EfficientNetB0(\n",
        "    include_top=False, weights=\"imagenet\", input_shape=IMG_SIZE+(3,)\n",
        ")\n",
        "base.trainable = False  # fase 1: congelado\n",
        "\n",
        "inputs = layers.Input(shape=IMG_SIZE+(3,))\n",
        "x = data_aug(inputs)\n",
        "x = tf.keras.applications.efficientnet.preprocess_input(x)\n",
        "x = base(x, training=False)\n",
        "x = layers.GlobalAveragePooling2D()(x)\n",
        "x = layers.Dropout(0.3)(x)\n",
        "outputs = layers.Dense(len(CLASSES), activation=\"softmax\", dtype=\"float32\")(x)  # salida float32\n",
        "model = keras.Model(inputs, outputs)\n",
        "\n",
        "model.compile(\n",
        "    optimizer=keras.optimizers.Adam(1e-3),\n",
        "    loss=\"sparse_categorical_crossentropy\",\n",
        "    metrics=[\"accuracy\"]\n",
        ")\n",
        "model.summary()\n"
      ]
    },
    {
      "cell_type": "code",
      "execution_count": 13,
      "id": "GBmy15aicKEI",
      "metadata": {
        "id": "GBmy15aicKEI"
      },
      "outputs": [],
      "source": [
        "# ===== 5) Callbacks =====\n",
        "ckpt_path = \"best_efficientnet_b0.keras\"\n",
        "callbacks = [\n",
        "    keras.callbacks.ModelCheckpoint(ckpt_path, save_best_only=True, monitor=\"val_accuracy\", mode=\"max\"),\n",
        "    keras.callbacks.EarlyStopping(patience=5, restore_best_weights=True, monitor=\"val_accuracy\"),\n",
        "    keras.callbacks.ReduceLROnPlateau(patience=3, factor=0.5, min_lr=1e-6, monitor=\"val_loss\")\n",
        "]\n"
      ]
    },
    {
      "cell_type": "code",
      "execution_count": 14,
      "id": "UYpN21wxcLqT",
      "metadata": {
        "colab": {
          "base_uri": "https://localhost:8080/"
        },
        "id": "UYpN21wxcLqT",
        "outputId": "29454633-8458-41df-a16f-2204ca518ac8"
      },
      "outputs": [
        {
          "name": "stdout",
          "output_type": "stream",
          "text": [
            "Epoch 1/10\n",
            "\u001b[1m143/143\u001b[0m \u001b[32m━━━━━━━━━━━━━━━━━━━━\u001b[0m\u001b[37m\u001b[0m \u001b[1m1522s\u001b[0m 10s/step - accuracy: 0.5967 - loss: 0.9447 - val_accuracy: 0.7653 - val_loss: 0.5605 - learning_rate: 0.0010\n",
            "Epoch 2/10\n",
            "\u001b[1m143/143\u001b[0m \u001b[32m━━━━━━━━━━━━━━━━━━━━\u001b[0m\u001b[37m\u001b[0m \u001b[1m22s\u001b[0m 85ms/step - accuracy: 0.8219 - loss: 0.4956 - val_accuracy: 0.7872 - val_loss: 0.5059 - learning_rate: 0.0010\n",
            "Epoch 3/10\n",
            "\u001b[1m143/143\u001b[0m \u001b[32m━━━━━━━━━━━━━━━━━━━━\u001b[0m\u001b[37m\u001b[0m \u001b[1m12s\u001b[0m 85ms/step - accuracy: 0.8350 - loss: 0.4345 - val_accuracy: 0.7977 - val_loss: 0.4860 - learning_rate: 0.0010\n",
            "Epoch 4/10\n",
            "\u001b[1m143/143\u001b[0m \u001b[32m━━━━━━━━━━━━━━━━━━━━\u001b[0m\u001b[37m\u001b[0m \u001b[1m12s\u001b[0m 83ms/step - accuracy: 0.8470 - loss: 0.3941 - val_accuracy: 0.8082 - val_loss: 0.4693 - learning_rate: 0.0010\n",
            "Epoch 5/10\n",
            "\u001b[1m143/143\u001b[0m \u001b[32m━━━━━━━━━━━━━━━━━━━━\u001b[0m\u001b[37m\u001b[0m \u001b[1m12s\u001b[0m 84ms/step - accuracy: 0.8626 - loss: 0.3724 - val_accuracy: 0.8170 - val_loss: 0.4457 - learning_rate: 0.0010\n",
            "Epoch 6/10\n",
            "\u001b[1m143/143\u001b[0m \u001b[32m━━━━━━━━━━━━━━━━━━━━\u001b[0m\u001b[37m\u001b[0m \u001b[1m12s\u001b[0m 83ms/step - accuracy: 0.8702 - loss: 0.3461 - val_accuracy: 0.8109 - val_loss: 0.4470 - learning_rate: 0.0010\n",
            "Epoch 7/10\n",
            "\u001b[1m143/143\u001b[0m \u001b[32m━━━━━━━━━━━━━━━━━━━━\u001b[0m\u001b[37m\u001b[0m \u001b[1m12s\u001b[0m 84ms/step - accuracy: 0.8733 - loss: 0.3378 - val_accuracy: 0.8310 - val_loss: 0.4118 - learning_rate: 0.0010\n",
            "Epoch 8/10\n",
            "\u001b[1m143/143\u001b[0m \u001b[32m━━━━━━━━━━━━━━━━━━━━\u001b[0m\u001b[37m\u001b[0m \u001b[1m11s\u001b[0m 78ms/step - accuracy: 0.8853 - loss: 0.3155 - val_accuracy: 0.8144 - val_loss: 0.4447 - learning_rate: 0.0010\n",
            "Epoch 9/10\n",
            "\u001b[1m143/143\u001b[0m \u001b[32m━━━━━━━━━━━━━━━━━━━━\u001b[0m\u001b[37m\u001b[0m \u001b[1m11s\u001b[0m 78ms/step - accuracy: 0.8807 - loss: 0.3187 - val_accuracy: 0.8249 - val_loss: 0.4272 - learning_rate: 0.0010\n",
            "Epoch 10/10\n",
            "\u001b[1m143/143\u001b[0m \u001b[32m━━━━━━━━━━━━━━━━━━━━\u001b[0m\u001b[37m\u001b[0m \u001b[1m12s\u001b[0m 86ms/step - accuracy: 0.8960 - loss: 0.2956 - val_accuracy: 0.8415 - val_loss: 0.3955 - learning_rate: 0.0010\n"
          ]
        }
      ],
      "source": [
        "# ===== 6) Entrenamiento Fase 1 =====\n",
        "history_1 = model.fit(\n",
        "    train_ds, validation_data=val_ds,\n",
        "    epochs=10, callbacks=callbacks\n",
        ")\n"
      ]
    },
    {
      "cell_type": "code",
      "execution_count": 15,
      "id": "Q2cBnXVBcP6m",
      "metadata": {
        "colab": {
          "base_uri": "https://localhost:8080/"
        },
        "id": "Q2cBnXVBcP6m",
        "outputId": "6ed0b872-ff49-493c-999c-27d3ca591ad0"
      },
      "outputs": [
        {
          "name": "stdout",
          "output_type": "stream",
          "text": [
            "Epoch 1/10\n",
            "\u001b[1m143/143\u001b[0m \u001b[32m━━━━━━━━━━━━━━━━━━━━\u001b[0m\u001b[37m\u001b[0m \u001b[1m53s\u001b[0m 189ms/step - accuracy: 0.7642 - loss: 0.6365 - val_accuracy: 0.8494 - val_loss: 0.4021 - learning_rate: 1.0000e-05\n",
            "Epoch 2/10\n",
            "\u001b[1m143/143\u001b[0m \u001b[32m━━━━━━━━━━━━━━━━━━━━\u001b[0m\u001b[37m\u001b[0m \u001b[1m16s\u001b[0m 112ms/step - accuracy: 0.8315 - loss: 0.4461 - val_accuracy: 0.8634 - val_loss: 0.3875 - learning_rate: 1.0000e-05\n",
            "Epoch 3/10\n",
            "\u001b[1m143/143\u001b[0m \u001b[32m━━━━━━━━━━━━━━━━━━━━\u001b[0m\u001b[37m\u001b[0m \u001b[1m19s\u001b[0m 102ms/step - accuracy: 0.8551 - loss: 0.3772 - val_accuracy: 0.8616 - val_loss: 0.3692 - learning_rate: 1.0000e-05\n",
            "Epoch 4/10\n",
            "\u001b[1m143/143\u001b[0m \u001b[32m━━━━━━━━━━━━━━━━━━━━\u001b[0m\u001b[37m\u001b[0m \u001b[1m15s\u001b[0m 104ms/step - accuracy: 0.8785 - loss: 0.3463 - val_accuracy: 0.8739 - val_loss: 0.3456 - learning_rate: 1.0000e-05\n",
            "Epoch 5/10\n",
            "\u001b[1m143/143\u001b[0m \u001b[32m━━━━━━━━━━━━━━━━━━━━\u001b[0m\u001b[37m\u001b[0m \u001b[1m15s\u001b[0m 104ms/step - accuracy: 0.8875 - loss: 0.3166 - val_accuracy: 0.8818 - val_loss: 0.3263 - learning_rate: 1.0000e-05\n",
            "Epoch 6/10\n",
            "\u001b[1m143/143\u001b[0m \u001b[32m━━━━━━━━━━━━━━━━━━━━\u001b[0m\u001b[37m\u001b[0m \u001b[1m15s\u001b[0m 102ms/step - accuracy: 0.8894 - loss: 0.3008 - val_accuracy: 0.8818 - val_loss: 0.3159 - learning_rate: 1.0000e-05\n",
            "Epoch 7/10\n",
            "\u001b[1m143/143\u001b[0m \u001b[32m━━━━━━━━━━━━━━━━━━━━\u001b[0m\u001b[37m\u001b[0m \u001b[1m15s\u001b[0m 105ms/step - accuracy: 0.8979 - loss: 0.2839 - val_accuracy: 0.8905 - val_loss: 0.2982 - learning_rate: 1.0000e-05\n",
            "Epoch 8/10\n",
            "\u001b[1m143/143\u001b[0m \u001b[32m━━━━━━━━━━━━━━━━━━━━\u001b[0m\u001b[37m\u001b[0m \u001b[1m15s\u001b[0m 104ms/step - accuracy: 0.9073 - loss: 0.2646 - val_accuracy: 0.8958 - val_loss: 0.2848 - learning_rate: 1.0000e-05\n",
            "Epoch 9/10\n",
            "\u001b[1m143/143\u001b[0m \u001b[32m━━━━━━━━━━━━━━━━━━━━\u001b[0m\u001b[37m\u001b[0m \u001b[1m15s\u001b[0m 104ms/step - accuracy: 0.9118 - loss: 0.2563 - val_accuracy: 0.8967 - val_loss: 0.2811 - learning_rate: 1.0000e-05\n",
            "Epoch 10/10\n",
            "\u001b[1m143/143\u001b[0m \u001b[32m━━━━━━━━━━━━━━━━━━━━\u001b[0m\u001b[37m\u001b[0m \u001b[1m21s\u001b[0m 110ms/step - accuracy: 0.9172 - loss: 0.2460 - val_accuracy: 0.9028 - val_loss: 0.2671 - learning_rate: 1.0000e-05\n"
          ]
        }
      ],
      "source": [
        "# ===== 7) Fine-tuning  =====\n",
        "# Descongela algunas capas superiores (p. ej., último 20%)\n",
        "for layer in base.layers[int(0.8*len(base.layers)):]:\n",
        "    layer.trainable = True\n",
        "# Compila con LR más baja\n",
        "model.compile(\n",
        "    optimizer=keras.optimizers.Adam(1e-5),\n",
        "    loss=\"sparse_categorical_crossentropy\",\n",
        "    metrics=[\"accuracy\"]\n",
        ")\n",
        "\n",
        "history_2 = model.fit(\n",
        "    train_ds, validation_data=val_ds,\n",
        "    epochs=10, callbacks=callbacks\n",
        ")\n",
        "\n",
        "# Carga mejor modelo guardado\n",
        "best_model = keras.models.load_model(ckpt_path)\n"
      ]
    },
    {
      "cell_type": "code",
      "execution_count": 17,
      "id": "JFjBjQT8cTz6",
      "metadata": {
        "colab": {
          "base_uri": "https://localhost:8080/"
        },
        "id": "JFjBjQT8cTz6",
        "outputId": "1bdc4461-e17c-472f-e317-72ae8073b4ed"
      },
      "outputs": [
        {
          "name": "stdout",
          "output_type": "stream",
          "text": [
            "[TEST] Accuracy = 0.8910\n"
          ]
        }
      ],
      "source": [
        "# ===== 8) Evaluación en TEST =====\n",
        "test_loss, test_acc = best_model.evaluate(test_ds, verbose=0)\n",
        "print(f\"[TEST] Accuracy = {test_acc:.4f}\")\n"
      ]
    },
    {
      "cell_type": "code",
      "execution_count": 18,
      "id": "1ac3b5f5",
      "metadata": {
        "colab": {
          "base_uri": "https://localhost:8080/",
          "height": 710
        },
        "id": "1ac3b5f5",
        "outputId": "c3b2b805-233b-43ba-c3fc-15b1e6084b07"
      },
      "outputs": [
        {
          "name": "stdout",
          "output_type": "stream",
          "text": [
            "              precision    recall  f1-score   support\n",
            "\n",
            "      glioma       0.91      0.83      0.87       300\n",
            "  meningioma       0.84      0.75      0.79       306\n",
            "     notumor       0.96      0.97      0.96       405\n",
            "   pituitary       0.84      0.98      0.91       310\n",
            "\n",
            "    accuracy                           0.89      1321\n",
            "   macro avg       0.89      0.88      0.88      1321\n",
            "weighted avg       0.89      0.89      0.89      1321\n",
            "\n"
          ]
        },
        {
          "data": {
            "image/png": "[encoded data removed]",
            "text/plain": [
              "<Figure size 600x500 with 2 Axes>"
            ]
          },
          "metadata": {},
          "output_type": "display_data"
        }
      ],
      "source": [
        "# ===== 9) Métricas extra: matriz de confusión / reporte =====\n",
        "import itertools\n",
        "from sklearn.metrics import confusion_matrix, classification_report\n",
        "import numpy as np\n",
        "\n",
        "y_true = np.concatenate([y.numpy() for _, y in test_ds.unbatch().batch(1024)])\n",
        "y_prob = best_model.predict(test_ds, verbose=0)\n",
        "y_pred = np.argmax(y_prob, axis=1)\n",
        "\n",
        "print(classification_report(y_true, y_pred, target_names=CLASSES))\n",
        "\n",
        "cm = confusion_matrix(y_true, y_pred)\n",
        "import matplotlib.pyplot as plt\n",
        "plt.figure(figsize=(6,5))\n",
        "plt.imshow(cm, cmap=\"Blues\")\n",
        "plt.title(\"Matriz de confusión (TEST)\")\n",
        "plt.colorbar()\n",
        "tick_marks = np.arange(len(CLASSES))\n",
        "plt.xticks(tick_marks, CLASSES, rotation=45)\n",
        "plt.yticks(tick_marks, CLASSES)\n",
        "for i, j in itertools.product(range(cm.shape[0]), range(cm.shape[1])):\n",
        "    plt.text(j, i, cm[i, j], ha=\"center\", va=\"center\")\n",
        "plt.xlabel(\"Predicho\"); plt.ylabel(\"Verdadero\"); plt.tight_layout(); plt.show()"
      ]
    },
    {
      "cell_type": "code",
      "execution_count": 19,
      "id": "5uncfIPCcXlB",
      "metadata": {
        "id": "5uncfIPCcXlB"
      },
      "outputs": [],
      "source": [
        "# ===== 10) Guardar para inferencia =====\n",
        "best_model.save(\"brain_tumor_efficientnet_b0.keras\")\n",
        "\n",
        "# Ejemplo de inferencia en 1 imagen (ruta absoluta o de Drive)\n",
        "def predict_image_tf(path_to_img: str):\n",
        "    import tensorflow as tf\n",
        "    from tensorflow.keras.preprocessing import image as kimage\n",
        "    img = kimage.load_img(path_to_img, target_size=IMG_SIZE)\n",
        "    arr = kimage.img_to_array(img)[None, ...]  # (1,H,W,3)\n",
        "    arr = tf.keras.applications.efficientnet.preprocess_input(arr)\n",
        "    prob = best_model.predict(arr, verbose=0)[0]\n",
        "    idx = int(np.argmax(prob))\n",
        "    return CLASSES[idx], float(prob[idx]), {CLASSES[i]: float(p) for i, p in enumerate(prob)}\n",
        "\n",
        "# pred, conf, probs = predict_image_tf(\"/content/drive/MyDrive/…/una_imagen.jpg\")\n",
        "# print(pred, conf); print(probs)\n"
      ]
    }
  ],
  "metadata": {
    "accelerator": "GPU",
    "colab": {
      "gpuType": "T4",
      "provenance": []
    },
    "kernelspec": {
      "display_name": "venv",
      "language": "python",
      "name": "python3"
    },
    "language_info": {
      "codemirror_mode": {
        "name": "ipython",
        "version": 3
      },
      "file_extension": ".py",
      "mimetype": "text/x-python",
      "name": "python",
      "nbconvert_exporter": "python",
      "pygments_lexer": "ipython3",
      "version": "3.13.7"
    }
  },
  "nbformat": 4,
  "nbformat_minor": 5
}
